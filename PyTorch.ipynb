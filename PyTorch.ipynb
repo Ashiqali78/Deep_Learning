{
  "nbformat": 4,
  "nbformat_minor": 0,
  "metadata": {
    "colab": {
      "provenance": [],
      "gpuType": "T4",
      "authorship_tag": "ABX9TyPFofQCqfpzwCv5nuQqWJJp",
      "include_colab_link": true
    },
    "kernelspec": {
      "name": "python3",
      "display_name": "Python 3"
    },
    "language_info": {
      "name": "python"
    },
    "accelerator": "GPU"
  },
  "cells": [
    {
      "cell_type": "markdown",
      "metadata": {
        "id": "view-in-github",
        "colab_type": "text"
      },
      "source": [
        "<a href=\"https://colab.research.google.com/github/Ashiqali78/Deep_Learning/blob/main/PyTorch.ipynb\" target=\"_parent\"><img src=\"https://colab.research.google.com/assets/colab-badge.svg\" alt=\"Open In Colab\"/></a>"
      ]
    },
    {
      "cell_type": "code",
      "execution_count": 1,
      "metadata": {
        "id": "ioUtuiCUubKR"
      },
      "outputs": [],
      "source": [
        "import torch\n",
        "import numpy as np"
      ]
    },
    {
      "cell_type": "code",
      "source": [
        "print(torch.__version__)"
      ],
      "metadata": {
        "colab": {
          "base_uri": "https://localhost:8080/"
        },
        "id": "dg0DmctXc5Zz",
        "outputId": "15805b62-feed-4110-d6ae-ec43d89562ea"
      },
      "execution_count": 2,
      "outputs": [
        {
          "output_type": "stream",
          "name": "stdout",
          "text": [
            "2.5.1+cu124\n"
          ]
        }
      ]
    },
    {
      "cell_type": "code",
      "source": [
        "#for checking GPU avalibality\n",
        "if torch.cuda.is_available():\n",
        "  print(\"GPU is avalible\")\n",
        "  print(torch.cuda.get_device_name(0))\n",
        "else:\n",
        "  print(\"GPU is not avalible\")"
      ],
      "metadata": {
        "colab": {
          "base_uri": "https://localhost:8080/"
        },
        "id": "GsfwW0HJdO9p",
        "outputId": "2eff891a-91d8-4612-97b0-92c8ff11c484"
      },
      "execution_count": 3,
      "outputs": [
        {
          "output_type": "stream",
          "name": "stdout",
          "text": [
            "GPU is avalible\n",
            "Tesla T4\n"
          ]
        }
      ]
    },
    {
      "cell_type": "code",
      "source": [
        "x=np.ones(5)\n",
        "x"
      ],
      "metadata": {
        "colab": {
          "base_uri": "https://localhost:8080/"
        },
        "id": "dCHMTNtIxzme",
        "outputId": "b7f99f0c-85b9-4949-ae43-f8a885e785e7"
      },
      "execution_count": 4,
      "outputs": [
        {
          "output_type": "execute_result",
          "data": {
            "text/plain": [
              "array([1., 1., 1., 1., 1.])"
            ]
          },
          "metadata": {},
          "execution_count": 4
        }
      ]
    },
    {
      "cell_type": "code",
      "source": [
        "y=torch.from_numpy(x)\n",
        "y"
      ],
      "metadata": {
        "colab": {
          "base_uri": "https://localhost:8080/"
        },
        "id": "RECX7ew1yA60",
        "outputId": "78499abc-af1a-4580-c4ce-d3eb8711e24c"
      },
      "execution_count": 5,
      "outputs": [
        {
          "output_type": "execute_result",
          "data": {
            "text/plain": [
              "tensor([1., 1., 1., 1., 1.], dtype=torch.float64)"
            ]
          },
          "metadata": {},
          "execution_count": 5
        }
      ]
    },
    {
      "cell_type": "code",
      "source": [
        "np.add(x,1,out=x)"
      ],
      "metadata": {
        "colab": {
          "base_uri": "https://localhost:8080/"
        },
        "id": "uN_a8xTFyUa6",
        "outputId": "d1610d76-bac9-4cae-9779-b65c296eb4a2"
      },
      "execution_count": 6,
      "outputs": [
        {
          "output_type": "execute_result",
          "data": {
            "text/plain": [
              "array([2., 2., 2., 2., 2.])"
            ]
          },
          "metadata": {},
          "execution_count": 6
        }
      ]
    },
    {
      "cell_type": "code",
      "source": [
        "print(x)\n",
        "print(y)"
      ],
      "metadata": {
        "colab": {
          "base_uri": "https://localhost:8080/"
        },
        "id": "1WLAl8IZzHQq",
        "outputId": "72e2c8a2-9cb7-4fae-c298-fd75e137d0b3"
      },
      "execution_count": 7,
      "outputs": [
        {
          "output_type": "stream",
          "name": "stdout",
          "text": [
            "[2. 2. 2. 2. 2.]\n",
            "tensor([2., 2., 2., 2., 2.], dtype=torch.float64)\n"
          ]
        }
      ]
    },
    {
      "cell_type": "code",
      "source": [
        "# 3 ways to create a tensor from pytorch\n",
        "arr = [[6,11],[0,1],[5,11]]\n",
        "pyTensor = torch.Tensor(arr)\n",
        "print(pyTensor)\n",
        "print(type(pyTensor))"
      ],
      "metadata": {
        "id": "Q1DWsHBzzQsE",
        "colab": {
          "base_uri": "https://localhost:8080/"
        },
        "outputId": "39b3b1fa-f9d9-461c-cc70-16122025fc3c"
      },
      "execution_count": 27,
      "outputs": [
        {
          "output_type": "stream",
          "name": "stdout",
          "text": [
            "tensor([[ 6., 11.],\n",
            "        [ 0.,  1.],\n",
            "        [ 5., 11.]])\n",
            "<class 'torch.Tensor'>\n"
          ]
        }
      ]
    },
    {
      "cell_type": "code",
      "source": [
        "arr2 = torch.Tensor([[1,10],[2,20],[3,30]])\n",
        "print(arr2)\n",
        "print(type(arr2))"
      ],
      "metadata": {
        "colab": {
          "base_uri": "https://localhost:8080/"
        },
        "id": "Z8AeKDfRYv7Z",
        "outputId": "8e620ba7-74a9-4b75-f24f-628697991645"
      },
      "execution_count": 9,
      "outputs": [
        {
          "output_type": "stream",
          "name": "stdout",
          "text": [
            "tensor([[ 1., 10.],\n",
            "        [ 2., 20.],\n",
            "        [ 3., 30.]])\n",
            "<class 'torch.Tensor'>\n"
          ]
        }
      ]
    },
    {
      "cell_type": "code",
      "source": [
        "arr1 = torch.Tensor([[4,10],[5,50],[6,3]])\n",
        "print(arr1)\n",
        "print(type(arr1))"
      ],
      "metadata": {
        "colab": {
          "base_uri": "https://localhost:8080/"
        },
        "id": "R4i72PKOpQ_M",
        "outputId": "e379c1b2-ed84-46c4-eb08-53a7c445e596"
      },
      "execution_count": 28,
      "outputs": [
        {
          "output_type": "stream",
          "name": "stdout",
          "text": [
            "tensor([[ 4., 10.],\n",
            "        [ 5., 50.],\n",
            "        [ 6.,  3.]])\n",
            "<class 'torch.Tensor'>\n"
          ]
        }
      ]
    },
    {
      "cell_type": "code",
      "source": [
        "tensor1 = torch.ones((2,2))\n",
        "tensor2 = torch.rand((2,2))\n",
        "result = tensor1+tensor2\n",
        "print(result)"
      ],
      "metadata": {
        "colab": {
          "base_uri": "https://localhost:8080/"
        },
        "id": "L1sw4i9uWpix",
        "outputId": "ec78a519-c445-4310-f1d6-36b85aa38bf6"
      },
      "execution_count": 10,
      "outputs": [
        {
          "output_type": "stream",
          "name": "stdout",
          "text": [
            "tensor([[1.7287, 1.9453],\n",
            "        [1.5595, 1.3933]])\n"
          ]
        }
      ]
    },
    {
      "cell_type": "code",
      "source": [
        "print(torch.arange(0,10,2))"
      ],
      "metadata": {
        "colab": {
          "base_uri": "https://localhost:8080/"
        },
        "id": "rzOgu8VMXVbj",
        "outputId": "adce3ea0-b5f4-470b-d4ab-389ca0a06ac0"
      },
      "execution_count": 11,
      "outputs": [
        {
          "output_type": "stream",
          "name": "stdout",
          "text": [
            "tensor([0, 2, 4, 6, 8])\n"
          ]
        }
      ]
    },
    {
      "cell_type": "code",
      "source": [
        "iden = torch.eye(4)\n",
        "print(iden)"
      ],
      "metadata": {
        "colab": {
          "base_uri": "https://localhost:8080/"
        },
        "id": "OEwHCGmkfVpR",
        "outputId": "9fe90c06-694f-46e4-e52d-33c8dc1dea24"
      },
      "execution_count": 12,
      "outputs": [
        {
          "output_type": "stream",
          "name": "stdout",
          "text": [
            "tensor([[1., 0., 0., 0.],\n",
            "        [0., 1., 0., 0.],\n",
            "        [0., 0., 1., 0.],\n",
            "        [0., 0., 0., 1.]])\n"
          ]
        }
      ]
    },
    {
      "cell_type": "markdown",
      "source": [
        "**Tensor Shape**"
      ],
      "metadata": {
        "id": "57wZ9A6gftDz"
      }
    },
    {
      "cell_type": "code",
      "source": [
        "print(iden.shape)"
      ],
      "metadata": {
        "colab": {
          "base_uri": "https://localhost:8080/"
        },
        "id": "LYc1V_Gyfwqy",
        "outputId": "d89edc5d-8a9d-4964-b69b-a3c896027c6a"
      },
      "execution_count": 13,
      "outputs": [
        {
          "output_type": "stream",
          "name": "stdout",
          "text": [
            "torch.Size([4, 4])\n"
          ]
        }
      ]
    },
    {
      "cell_type": "code",
      "source": [
        "# copy tensor shape\n",
        "iden1 = torch.empty_like(iden)\n",
        "iden1"
      ],
      "metadata": {
        "colab": {
          "base_uri": "https://localhost:8080/"
        },
        "id": "9E5cKUQEgKgM",
        "outputId": "f0351275-d6f2-44f5-9b45-8302dbde22d3"
      },
      "execution_count": 14,
      "outputs": [
        {
          "output_type": "execute_result",
          "data": {
            "text/plain": [
              "tensor([[7.8804e-35, 0.0000e+00, 6.3733e+34, 4.3411e-41],\n",
              "        [0.0000e+00, 0.0000e+00, 0.0000e+00, 0.0000e+00],\n",
              "        [0.0000e+00, 0.0000e+00, 0.0000e+00, 0.0000e+00],\n",
              "        [0.0000e+00, 0.0000e+00, 0.0000e+00, 0.0000e+00]])"
            ]
          },
          "metadata": {},
          "execution_count": 14
        }
      ]
    },
    {
      "cell_type": "code",
      "source": [
        "iden1.dtype"
      ],
      "metadata": {
        "id": "u-jzxSabiMIV",
        "colab": {
          "base_uri": "https://localhost:8080/"
        },
        "outputId": "cfd0c1f8-0728-46ed-977f-a9b6ef6f0d8e"
      },
      "execution_count": 16,
      "outputs": [
        {
          "output_type": "execute_result",
          "data": {
            "text/plain": [
              "torch.float32"
            ]
          },
          "metadata": {},
          "execution_count": 16
        }
      ]
    },
    {
      "cell_type": "code",
      "source": [
        "intTen = torch.tensor([1.0, 2.0, 3.0, 4.0, 5.0], dtype = torch.int32)\n",
        "print(intTen)\n",
        "intTen.dtype"
      ],
      "metadata": {
        "colab": {
          "base_uri": "https://localhost:8080/"
        },
        "id": "mKIp6ZKCnPNz",
        "outputId": "18b4a7a6-f6e9-4e21-968a-9a827efa12e7"
      },
      "execution_count": 18,
      "outputs": [
        {
          "output_type": "stream",
          "name": "stdout",
          "text": [
            "tensor([1, 2, 3, 4, 5], dtype=torch.int32)\n"
          ]
        },
        {
          "output_type": "execute_result",
          "data": {
            "text/plain": [
              "torch.int32"
            ]
          },
          "metadata": {},
          "execution_count": 18
        }
      ]
    },
    {
      "cell_type": "code",
      "source": [
        "print(arr1)\n",
        "print(arr2)"
      ],
      "metadata": {
        "colab": {
          "base_uri": "https://localhost:8080/"
        },
        "id": "BZYWNvh7oLD_",
        "outputId": "83ffccf4-d6bb-4861-dff1-e45e63c8cb6f"
      },
      "execution_count": 29,
      "outputs": [
        {
          "output_type": "stream",
          "name": "stdout",
          "text": [
            "tensor([[ 4., 10.],\n",
            "        [ 5., 50.],\n",
            "        [ 6.,  3.]])\n",
            "tensor([[ 1., 10.],\n",
            "        [ 2., 20.],\n",
            "        [ 3., 30.]])\n"
          ]
        }
      ]
    },
    {
      "cell_type": "code",
      "source": [
        "# Math Operations on these tensors\n",
        "print(arr1*arr2)"
      ],
      "metadata": {
        "colab": {
          "base_uri": "https://localhost:8080/"
        },
        "id": "XtDtFNRQomjR",
        "outputId": "697320ac-5f6a-4113-e649-1ee05907c463"
      },
      "execution_count": 30,
      "outputs": [
        {
          "output_type": "stream",
          "name": "stdout",
          "text": [
            "tensor([[   4.,  100.],\n",
            "        [  10., 1000.],\n",
            "        [  18.,   90.]])\n"
          ]
        }
      ]
    },
    {
      "cell_type": "code",
      "source": [
        "# .add_ is used for memory efficiency perform inplace operations\n",
        "tensor1 = torch.rand(2,3)\n",
        "tensor2 = torch.rand(2,3)\n",
        "print(tensor1)\n",
        "print(tensor2)"
      ],
      "metadata": {
        "colab": {
          "base_uri": "https://localhost:8080/"
        },
        "id": "b-ICE_L0pIaB",
        "outputId": "dee95cd0-11bc-4cd3-9a3f-08b32e738e21"
      },
      "execution_count": 31,
      "outputs": [
        {
          "output_type": "stream",
          "name": "stdout",
          "text": [
            "tensor([[0.7992, 0.0334, 0.9613],\n",
            "        [0.2801, 0.2067, 0.4554]])\n",
            "tensor([[0.3266, 0.9248, 0.9740],\n",
            "        [0.1044, 0.8869, 0.7817]])\n"
          ]
        }
      ]
    },
    {
      "cell_type": "code",
      "source": [
        "tensor1.add_(tensor2)\n",
        "# all the changes are store back to the tensor1 for memory saving."
      ],
      "metadata": {
        "colab": {
          "base_uri": "https://localhost:8080/"
        },
        "id": "tSaMoEUwr-Z4",
        "outputId": "9e4b0a20-c34d-4785-d723-bad3dbacef44"
      },
      "execution_count": 32,
      "outputs": [
        {
          "output_type": "execute_result",
          "data": {
            "text/plain": [
              "tensor([[1.1258, 0.9582, 1.9353],\n",
              "        [0.3845, 1.0936, 1.2371]])"
            ]
          },
          "metadata": {},
          "execution_count": 32
        }
      ]
    },
    {
      "cell_type": "code",
      "source": [
        "print(tensor1)"
      ],
      "metadata": {
        "colab": {
          "base_uri": "https://localhost:8080/"
        },
        "id": "TGlpRD-ssKCd",
        "outputId": "11c78b5a-8c98-4e44-b0a8-a21052f8ef39"
      },
      "execution_count": 33,
      "outputs": [
        {
          "output_type": "stream",
          "name": "stdout",
          "text": [
            "tensor([[1.1258, 0.9582, 1.9353],\n",
            "        [0.3845, 1.0936, 1.2371]])\n"
          ]
        }
      ]
    },
    {
      "cell_type": "code",
      "source": [
        "torch.relu(tensor1)"
      ],
      "metadata": {
        "colab": {
          "base_uri": "https://localhost:8080/"
        },
        "id": "Bn1CQv4ksMDI",
        "outputId": "eb256502-36bb-4a62-acdf-b7124053ad85"
      },
      "execution_count": 34,
      "outputs": [
        {
          "output_type": "execute_result",
          "data": {
            "text/plain": [
              "tensor([[1.1258, 0.9582, 1.9353],\n",
              "        [0.3845, 1.0936, 1.2371]])"
            ]
          },
          "metadata": {},
          "execution_count": 34
        }
      ]
    },
    {
      "cell_type": "code",
      "source": [
        "# .clone() is used ofr copy the tensor"
      ],
      "metadata": {
        "id": "YV1sgjzZsiHK"
      },
      "execution_count": null,
      "outputs": []
    },
    {
      "cell_type": "markdown",
      "source": [
        "##Tensor operations on GPU"
      ],
      "metadata": {
        "id": "kF-iIjPlvu42"
      }
    },
    {
      "cell_type": "code",
      "source": [
        "torch.cuda.is_available()"
      ],
      "metadata": {
        "colab": {
          "base_uri": "https://localhost:8080/"
        },
        "id": "-13jx8pBvy97",
        "outputId": "cb2f7f17-7731-4617-83d2-373abab075c2"
      },
      "execution_count": 35,
      "outputs": [
        {
          "output_type": "execute_result",
          "data": {
            "text/plain": [
              "True"
            ]
          },
          "metadata": {},
          "execution_count": 35
        }
      ]
    },
    {
      "cell_type": "code",
      "source": [
        "device = torch.device('cuda')"
      ],
      "metadata": {
        "id": "ckkpwgBOv76A"
      },
      "execution_count": 36,
      "outputs": []
    },
    {
      "cell_type": "code",
      "source": [
        "gputensor = torch.rand((2,3),device=device)\n",
        "print(gputensor)"
      ],
      "metadata": {
        "colab": {
          "base_uri": "https://localhost:8080/"
        },
        "id": "mRHopISxwDoH",
        "outputId": "daa93ead-e825-47eb-c106-cecb7dbe1f19"
      },
      "execution_count": 37,
      "outputs": [
        {
          "output_type": "stream",
          "name": "stdout",
          "text": [
            "tensor([[0.9169, 0.7246, 0.9967],\n",
            "        [0.1080, 0.7334, 0.6722]], device='cuda:0')\n"
          ]
        }
      ]
    },
    {
      "cell_type": "code",
      "source": [
        "# move cpu tensor to gpu\n",
        "tensor1.to(device)"
      ],
      "metadata": {
        "colab": {
          "base_uri": "https://localhost:8080/"
        },
        "id": "Fo7ZIKUewfpC",
        "outputId": "0ca86dc6-fc29-48b0-ab98-52d90d0c4598"
      },
      "execution_count": 38,
      "outputs": [
        {
          "output_type": "execute_result",
          "data": {
            "text/plain": [
              "tensor([[1.1258, 0.9582, 1.9353],\n",
              "        [0.3845, 1.0936, 1.2371]], device='cuda:0')"
            ]
          },
          "metadata": {},
          "execution_count": 38
        }
      ]
    },
    {
      "cell_type": "markdown",
      "source": [
        "###CPU vs GPU"
      ],
      "metadata": {
        "id": "iSh1cZr-xJkV"
      }
    },
    {
      "cell_type": "code",
      "source": [
        "import time\n",
        "\n",
        "size = 10000\n",
        "# CPU\n",
        "mat_cpu1 = torch.rand(size,size)\n",
        "mat_cpu2 = torch.rand(size,size)\n",
        "\n",
        "start_time = time.time()\n",
        "result_cpu = torch.matmul(mat_cpu1, mat_cpu2)\n",
        "cpu_time = time.time() - start_time\n",
        "print(\"CPU time: \", cpu_time)\n",
        "\n",
        "# GPU\n",
        "mat_gpu1 = mat_cpu1.to(device)\n",
        "mat_gpu2 = mat_cpu2.to(device)\n",
        "\n",
        "start_time = time.time()\n",
        "result_gpu = torch.matmul(mat_gpu1, mat_gpu2)\n",
        "gpu_time = time.time() - start_time\n",
        "print(\"GPU time: \", gpu_time)\n",
        "\n",
        "print(\"(CPU time / GPU time)\", cpu_time / gpu_time)"
      ],
      "metadata": {
        "colab": {
          "base_uri": "https://localhost:8080/"
        },
        "id": "Wgf07_umxMTh",
        "outputId": "d87377de-7ffe-403c-d9e7-1c2cdd21e2b0"
      },
      "execution_count": 40,
      "outputs": [
        {
          "output_type": "stream",
          "name": "stdout",
          "text": [
            "CPU time:  16.075580596923828\n",
            "GPU time:  0.0006313323974609375\n",
            "(CPU time / GPU time) 25462.94259818731\n"
          ]
        }
      ]
    },
    {
      "cell_type": "markdown",
      "source": [
        "**Reshaping the tensor**\n",
        "reshape, flatten, sqeeze, unsqueeze, permute etc"
      ],
      "metadata": {
        "id": "1JwPo2bGzYqy"
      }
    },
    {
      "cell_type": "code",
      "source": [
        "a = torch.ones(4,4)\n",
        "a"
      ],
      "metadata": {
        "colab": {
          "base_uri": "https://localhost:8080/"
        },
        "id": "uLYO2JfEzdAf",
        "outputId": "13b36d92-e0c7-4710-ab85-5aaccc05476c"
      },
      "execution_count": 41,
      "outputs": [
        {
          "output_type": "execute_result",
          "data": {
            "text/plain": [
              "tensor([[1., 1., 1., 1.],\n",
              "        [1., 1., 1., 1.],\n",
              "        [1., 1., 1., 1.],\n",
              "        [1., 1., 1., 1.]])"
            ]
          },
          "metadata": {},
          "execution_count": 41
        }
      ]
    },
    {
      "cell_type": "code",
      "source": [
        "print(a.reshape(2,2,2,2))\n",
        "print(a.flatten())\n"
      ],
      "metadata": {
        "colab": {
          "base_uri": "https://localhost:8080/"
        },
        "id": "kReR6hhRzhtW",
        "outputId": "eab26069-be94-42da-8a7f-671c4b324798"
      },
      "execution_count": 43,
      "outputs": [
        {
          "output_type": "stream",
          "name": "stdout",
          "text": [
            "tensor([[[[1., 1.],\n",
            "          [1., 1.]],\n",
            "\n",
            "         [[1., 1.],\n",
            "          [1., 1.]]],\n",
            "\n",
            "\n",
            "        [[[1., 1.],\n",
            "          [1., 1.]],\n",
            "\n",
            "         [[1., 1.],\n",
            "          [1., 1.]]]])\n",
            "tensor([1., 1., 1., 1., 1., 1., 1., 1., 1., 1., 1., 1., 1., 1., 1., 1.])\n"
          ]
        }
      ]
    },
    {
      "cell_type": "code",
      "source": [],
      "metadata": {
        "id": "8Qw6fO7RzoYA"
      },
      "execution_count": null,
      "outputs": []
    }
  ]
}